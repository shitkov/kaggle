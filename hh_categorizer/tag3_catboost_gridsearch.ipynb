{
  "nbformat": 4,
  "nbformat_minor": 0,
  "metadata": {
    "colab": {
      "name": "tag3_catboost_gridsearch.ipynb",
      "provenance": [],
      "collapsed_sections": [],
      "authorship_tag": "ABX9TyPpQ1bH26APnj9RLI/lbjBA",
      "include_colab_link": true
    },
    "kernelspec": {
      "name": "python3",
      "display_name": "Python 3"
    },
    "language_info": {
      "name": "python"
    },
    "accelerator": "GPU"
  },
  "cells": [
    {
      "cell_type": "markdown",
      "metadata": {
        "id": "view-in-github",
        "colab_type": "text"
      },
      "source": [
        "<a href=\"https://colab.research.google.com/github/shitkov/categorizer/blob/main/tag3_catboost_gridsearch.ipynb\" target=\"_parent\"><img src=\"https://colab.research.google.com/assets/colab-badge.svg\" alt=\"Open In Colab\"/></a>"
      ]
    },
    {
      "cell_type": "code",
      "execution_count": 1,
      "metadata": {
        "id": "6dRwx68tAiQm"
      },
      "outputs": [],
      "source": [
        "%%capture\n",
        "!wget https://github.com/shitkov/categorizer/raw/main/data_split.zip\n",
        "!unzip /content/data_split.zip\n",
        "!pip install catboost"
      ]
    },
    {
      "cell_type": "code",
      "source": [
        "import pandas as pd\n",
        "from catboost import Pool, CatBoostClassifier\n",
        "from sklearn.metrics import f1_score, precision_score, recall_score"
      ],
      "metadata": {
        "id": "ICAb9w-2Anl5"
      },
      "execution_count": 2,
      "outputs": []
    },
    {
      "cell_type": "code",
      "source": [
        "data_train = pd.read_csv('/content/data_train.csv').fillna('')\n",
        "data_eval = pd.read_csv('/content/data_valid.csv').fillna('')\n",
        "data_test = pd.read_csv('/content/data_test.csv').fillna('')"
      ],
      "metadata": {
        "id": "B8ZJXrfUBh3a"
      },
      "execution_count": 3,
      "outputs": []
    },
    {
      "cell_type": "code",
      "source": [
        "target_columns = ['target', 'tag_0', 'tag_1', 'tag_2', 'tag_3', 'tag_4', 'tag_5', 'tag_6', 'tag_7', 'tag_8']"
      ],
      "metadata": {
        "id": "19PeR1W7BjL0"
      },
      "execution_count": 4,
      "outputs": []
    },
    {
      "cell_type": "code",
      "source": [
        "labels_train = list(data_train['tag_3'])\n",
        "labels_eval = list(data_eval['tag_3'])\n",
        "labels_test = list(data_test['tag_3'])"
      ],
      "metadata": {
        "id": "2ne94TJWBnEw"
      },
      "execution_count": 5,
      "outputs": []
    },
    {
      "cell_type": "code",
      "source": [
        "data_train = data_train.drop(columns=target_columns)\n",
        "data_eval = data_eval.drop(columns=target_columns)\n",
        "data_test = data_test.drop(columns=target_columns)"
      ],
      "metadata": {
        "id": "ImvOZi-vBoXH"
      },
      "execution_count": 6,
      "outputs": []
    },
    {
      "cell_type": "code",
      "source": [
        "def get_equal(data):\n",
        "    equal_list = []\n",
        "    positive_texts = list(data['clean_positive'])\n",
        "    negative_texts = list(data['clean_negative'])\n",
        "    for positive, negative in zip(positive_texts, negative_texts):\n",
        "        if positive == negative:\n",
        "            equal_list.append('yes')\n",
        "        else:\n",
        "            equal_list.append('no')\n",
        "    data['equal'] = equal_list\n",
        "    return data"
      ],
      "metadata": {
        "id": "ueb3LxJqFbm5"
      },
      "execution_count": 7,
      "outputs": []
    },
    {
      "cell_type": "code",
      "source": [
        "data_train = get_equal(data_train)\n",
        "data_eval = get_equal(data_eval)\n",
        "data_test = get_equal(data_test)"
      ],
      "metadata": {
        "id": "uJhPWU_8GiZ0"
      },
      "execution_count": 8,
      "outputs": []
    },
    {
      "cell_type": "code",
      "source": [
        "cat_features = [\n",
        "        'position',\n",
        "        'sentiment_positive_label',\n",
        "        'sentiment_negative_label',\n",
        "        'emotion_positive_label',\n",
        "        'emotion_negative_label',\n",
        "        'toxic_positive_label',\n",
        "        'toxic_negative_label',\n",
        "        'equal'\n",
        "       ]"
      ],
      "metadata": {
        "id": "RjIql4jMBppJ"
      },
      "execution_count": 9,
      "outputs": []
    },
    {
      "cell_type": "code",
      "source": [
        "text_features = [\n",
        "                 'clean_positive',\n",
        "                 'clean_negative'\n",
        "]"
      ],
      "metadata": {
        "id": "fVO07p4XD7lK"
      },
      "execution_count": 10,
      "outputs": []
    },
    {
      "cell_type": "code",
      "source": [
        "columns2drop = [\n",
        "                'city',\n",
        "                'positive',\n",
        "                'negative', \n",
        "                'clean_positive',\n",
        "                'clean_negative'\n",
        "]"
      ],
      "metadata": {
        "id": "KmB2QZVqFR8w"
      },
      "execution_count": 11,
      "outputs": []
    },
    {
      "cell_type": "code",
      "source": [
        "dataset_train = Pool(\n",
        "    data_train.drop(columns=columns2drop),\n",
        "    labels_train,\n",
        "    cat_features=cat_features,\n",
        "    # text_features=text_features\n",
        "    )"
      ],
      "metadata": {
        "id": "gdQqaTNREAJw"
      },
      "execution_count": 12,
      "outputs": []
    },
    {
      "cell_type": "code",
      "source": [
        "dataset_eval = Pool(\n",
        "    data_eval.drop(columns=columns2drop),\n",
        "    labels_eval,\n",
        "    cat_features=cat_features,\n",
        "    # text_features=text_features\n",
        "    )"
      ],
      "metadata": {
        "id": "hQfB4ee8ECJp"
      },
      "execution_count": 13,
      "outputs": []
    },
    {
      "cell_type": "code",
      "source": [
        "N=1000\n",
        "weights_list = [1, 2, 3, 5, 10, 20, 30, 50, 100]\n",
        "metric_list = ['F1', 'TotalF1', 'CrossEntropy', 'BalancedAccuracy']\n",
        "gridsearch = []\n",
        "for w in weights_list:\n",
        "    for metric in metric_list:\n",
        "        model = CatBoostClassifier(\n",
        "            iterations=N,\n",
        "            eval_metric=metric,\n",
        "            task_type='GPU',\n",
        "            use_best_model=True,\n",
        "            silent=True,\n",
        "            class_weights=[1, w]\n",
        "            )\n",
        "        model.fit(dataset_train, eval_set=dataset_eval)\n",
        "        predicted = model.predict(data_test.drop(columns=columns2drop))\n",
        "        ans = {\n",
        "            'metric': metric,\n",
        "            'weight': w,\n",
        "            'f1': f1_score(predicted, labels_test, average=None),\n",
        "            'precision': precision_score(predicted, labels_test, average=None),\n",
        "            'recall': recall_score(predicted, labels_test, average=None)\n",
        "        }\n",
        "        gridsearch.append(ans)"
      ],
      "metadata": {
        "id": "Q-x88fUSaRzr"
      },
      "execution_count": null,
      "outputs": []
    },
    {
      "cell_type": "code",
      "source": [
        "model = CatBoostClassifier(\n",
        "    iterations=10000,\n",
        "    eval_metric='CrossEntropy',\n",
        "    task_type='GPU',\n",
        "    use_best_model=True,\n",
        "    silent=True,\n",
        "    class_weights=[1, 2]\n",
        "    )\n",
        "model.fit(dataset_train, eval_set=dataset_eval)\n",
        "predicted = model.predict(data_test.drop(columns=columns2drop))"
      ],
      "metadata": {
        "id": "PPgu9Sg-wz6r"
      },
      "execution_count": null,
      "outputs": []
    },
    {
      "cell_type": "code",
      "source": [
        "ans = {\n",
        "    'metric': 'CrossEntropy',\n",
        "    'weight': 2,\n",
        "    'f1': f1_score(predicted, labels_test, average=None),\n",
        "    'precision': precision_score(predicted, labels_test, average=None),\n",
        "    'recall': recall_score(predicted, labels_test, average=None)\n",
        "}"
      ],
      "metadata": {
        "id": "RgFeCcunyM-g"
      },
      "execution_count": null,
      "outputs": []
    },
    {
      "cell_type": "code",
      "source": [
        "ans"
      ],
      "metadata": {
        "colab": {
          "base_uri": "https://localhost:8080/"
        },
        "id": "H4ZEo7x5z7ys",
        "outputId": "97bc2d0f-5acf-43e6-9593-cfbb2e003860"
      },
      "execution_count": 21,
      "outputs": [
        {
          "output_type": "execute_result",
          "data": {
            "text/plain": [
              "{'f1': array([0.99400816, 0.78923767]),\n",
              " 'metric': 'CrossEntropy',\n",
              " 'precision': array([0.99362814, 0.8       ]),\n",
              " 'recall': array([0.99438847, 0.77876106]),\n",
              " 'weight': 2}"
            ]
          },
          "metadata": {},
          "execution_count": 21
        }
      ]
    }
  ]
}