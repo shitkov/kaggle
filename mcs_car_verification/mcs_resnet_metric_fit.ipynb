{
 "cells": [
  {
   "cell_type": "markdown",
   "metadata": {},
   "source": [
    "### Car Model Verification\n",
    "\n",
    "https://ods.ai/competitions/mcs_car_verification\n",
    "\n",
    "https://github.com/AlexanderParkin/MCS2022.Baseline"
   ]
  },
  {
   "cell_type": "code",
   "execution_count": 1,
   "metadata": {
    "_cell_guid": "b1076dfc-b9ad-4769-8c92-a6c4dae69d19",
    "_uuid": "8f2839f25d086af736a60e9eeb907d3b93b6e0e5",
    "execution": {
     "iopub.execute_input": "2022-06-09T07:17:34.533417Z",
     "iopub.status.busy": "2022-06-09T07:17:34.533085Z",
     "iopub.status.idle": "2022-06-09T07:17:34.558239Z",
     "shell.execute_reply": "2022-06-09T07:17:34.557590Z",
     "shell.execute_reply.started": "2022-06-09T07:17:34.533342Z"
    }
   },
   "outputs": [],
   "source": [
    "import os\n",
    "\n",
    "import numpy as np\n",
    "import pandas as pd\n",
    "from tqdm import tqdm\n",
    "from PIL import Image\n",
    "import matplotlib.pyplot as plt\n",
    "from sklearn.model_selection import train_test_split\n",
    "from sklearn.metrics import f1_score\n",
    "\n",
    "import torch\n",
    "import torch.nn as nn\n",
    "import torch.optim as optim\n",
    "from torch.utils.data import Dataset, DataLoader\n",
    "\n",
    "import torchvision\n",
    "from torchvision import models\n",
    "from torchvision import transforms\n",
    "\n",
    "from pytorch_metric_learning import distances, losses, miners, reducers, testers\n",
    "from pytorch_metric_learning.utils.accuracy_calculator import AccuracyCalculator"
   ]
  },
  {
   "cell_type": "markdown",
   "metadata": {},
   "source": [
    "### Get data"
   ]
  },
  {
   "cell_type": "code",
   "execution_count": 2,
   "metadata": {
    "execution": {
     "iopub.execute_input": "2022-06-09T07:17:35.472938Z",
     "iopub.status.busy": "2022-06-09T07:17:35.472601Z",
     "iopub.status.idle": "2022-06-09T07:18:19.447851Z",
     "shell.execute_reply": "2022-06-09T07:18:19.447048Z",
     "shell.execute_reply.started": "2022-06-09T07:17:35.472903Z"
    }
   },
   "outputs": [],
   "source": [
    "data_path = './data/image'\n",
    "data = []\n",
    "for path, folder, files in os.walk(data_path):\n",
    "    if files:\n",
    "        for f in files:\n",
    "            data.append(((path + '/' + f), f[:-4]))"
   ]
  },
  {
   "cell_type": "code",
   "execution_count": 3,
   "metadata": {
    "execution": {
     "iopub.execute_input": "2022-06-09T07:18:19.449860Z",
     "iopub.status.busy": "2022-06-09T07:18:19.449226Z",
     "iopub.status.idle": "2022-06-09T07:18:19.526559Z",
     "shell.execute_reply": "2022-06-09T07:18:19.525510Z",
     "shell.execute_reply.started": "2022-06-09T07:18:19.449824Z"
    }
   },
   "outputs": [],
   "source": [
    "data = sorted(data, key=lambda x: x[1])"
   ]
  },
  {
   "cell_type": "code",
   "execution_count": 4,
   "metadata": {
    "execution": {
     "iopub.execute_input": "2022-06-09T07:18:19.528557Z",
     "iopub.status.busy": "2022-06-09T07:18:19.528093Z",
     "iopub.status.idle": "2022-06-09T07:18:19.725790Z",
     "shell.execute_reply": "2022-06-09T07:18:19.724592Z",
     "shell.execute_reply.started": "2022-06-09T07:18:19.528481Z"
    }
   },
   "outputs": [],
   "source": [
    "img_path, img_ids = list(zip(*data))"
   ]
  },
  {
   "cell_type": "code",
   "execution_count": 5,
   "metadata": {
    "execution": {
     "iopub.execute_input": "2022-06-09T07:18:19.728131Z",
     "iopub.status.busy": "2022-06-09T07:18:19.727098Z",
     "iopub.status.idle": "2022-06-09T07:18:19.809072Z",
     "shell.execute_reply": "2022-06-09T07:18:19.808261Z",
     "shell.execute_reply.started": "2022-06-09T07:18:19.728086Z"
    }
   },
   "outputs": [],
   "source": [
    "df_img = pd.DataFrame()\n",
    "df_img['id'] = img_ids\n",
    "df_img['img_path'] = img_path"
   ]
  },
  {
   "cell_type": "code",
   "execution_count": 6,
   "metadata": {
    "execution": {
     "iopub.execute_input": "2022-06-09T07:18:19.812416Z",
     "iopub.status.busy": "2022-06-09T07:18:19.812022Z",
     "iopub.status.idle": "2022-06-09T07:19:03.342830Z",
     "shell.execute_reply": "2022-06-09T07:19:03.342006Z",
     "shell.execute_reply.started": "2022-06-09T07:18:19.812379Z"
    }
   },
   "outputs": [],
   "source": [
    "labels_path = './data/label'\n",
    "labels = []\n",
    "for path, folder, files in os.walk(labels_path):\n",
    "    if files:\n",
    "        for f in files:\n",
    "            labels.append(((path + '/' + f), f[:-4]))"
   ]
  },
  {
   "cell_type": "code",
   "execution_count": 7,
   "metadata": {
    "execution": {
     "iopub.execute_input": "2022-06-09T07:19:03.344649Z",
     "iopub.status.busy": "2022-06-09T07:19:03.344109Z",
     "iopub.status.idle": "2022-06-09T07:19:03.427402Z",
     "shell.execute_reply": "2022-06-09T07:19:03.426564Z",
     "shell.execute_reply.started": "2022-06-09T07:19:03.344612Z"
    }
   },
   "outputs": [],
   "source": [
    "labels = sorted(labels, key=lambda x: x[1])"
   ]
  },
  {
   "cell_type": "markdown",
   "metadata": {},
   "source": [
    "### Create dataset"
   ]
  },
  {
   "cell_type": "code",
   "execution_count": 8,
   "metadata": {
    "execution": {
     "iopub.execute_input": "2022-06-09T07:19:03.429037Z",
     "iopub.status.busy": "2022-06-09T07:19:03.428682Z",
     "iopub.status.idle": "2022-06-09T07:19:03.749090Z",
     "shell.execute_reply": "2022-06-09T07:19:03.748178Z",
     "shell.execute_reply.started": "2022-06-09T07:19:03.429001Z"
    }
   },
   "outputs": [],
   "source": [
    "lbs_path, lbs_id = list(zip(*labels))"
   ]
  },
  {
   "cell_type": "code",
   "execution_count": 9,
   "metadata": {
    "execution": {
     "iopub.execute_input": "2022-06-09T07:19:03.751135Z",
     "iopub.status.busy": "2022-06-09T07:19:03.750697Z",
     "iopub.status.idle": "2022-06-09T07:19:03.817023Z",
     "shell.execute_reply": "2022-06-09T07:19:03.816258Z",
     "shell.execute_reply.started": "2022-06-09T07:19:03.751084Z"
    }
   },
   "outputs": [],
   "source": [
    "df_lbs = pd.DataFrame()\n",
    "df_lbs['id'] = lbs_id\n",
    "df_lbs['lbs_path'] = lbs_path"
   ]
  },
  {
   "cell_type": "code",
   "execution_count": 10,
   "metadata": {
    "execution": {
     "iopub.execute_input": "2022-06-09T07:19:03.819785Z",
     "iopub.status.busy": "2022-06-09T07:19:03.818925Z",
     "iopub.status.idle": "2022-06-09T07:19:03.986532Z",
     "shell.execute_reply": "2022-06-09T07:19:03.985714Z",
     "shell.execute_reply.started": "2022-06-09T07:19:03.819747Z"
    }
   },
   "outputs": [],
   "source": [
    "df = pd.merge(df_img, df_lbs, how='inner', on = 'id')"
   ]
  },
  {
   "cell_type": "code",
   "execution_count": 11,
   "metadata": {
    "execution": {
     "iopub.execute_input": "2022-06-09T07:19:03.988405Z",
     "iopub.status.busy": "2022-06-09T07:19:03.988004Z",
     "iopub.status.idle": "2022-06-09T07:19:04.023283Z",
     "shell.execute_reply": "2022-06-09T07:19:04.022314Z",
     "shell.execute_reply.started": "2022-06-09T07:19:03.988369Z"
    }
   },
   "outputs": [],
   "source": [
    "labels = df['lbs_path']"
   ]
  },
  {
   "cell_type": "code",
   "execution_count": 12,
   "metadata": {
    "execution": {
     "iopub.execute_input": "2022-06-09T07:19:04.025294Z",
     "iopub.status.busy": "2022-06-09T07:19:04.024747Z",
     "iopub.status.idle": "2022-06-09T07:30:21.644428Z",
     "shell.execute_reply": "2022-06-09T07:30:21.643570Z",
     "shell.execute_reply.started": "2022-06-09T07:19:04.025256Z"
    }
   },
   "outputs": [
    {
     "name": "stderr",
     "output_type": "stream",
     "text": [
      "100%|██████████| 136894/136894 [00:41<00:00, 3321.28it/s]\n"
     ]
    }
   ],
   "source": [
    "bbs = []\n",
    "for path in tqdm(labels):\n",
    "    with open(path) as f:\n",
    "        lines = f.readlines()\n",
    "    bbs.append(lines[-1][:-1].split(' '))"
   ]
  },
  {
   "cell_type": "code",
   "execution_count": 13,
   "metadata": {
    "execution": {
     "iopub.execute_input": "2022-06-09T07:30:21.646462Z",
     "iopub.status.busy": "2022-06-09T07:30:21.645505Z",
     "iopub.status.idle": "2022-06-09T07:30:21.715765Z",
     "shell.execute_reply": "2022-06-09T07:30:21.714791Z",
     "shell.execute_reply.started": "2022-06-09T07:30:21.646421Z"
    }
   },
   "outputs": [],
   "source": [
    "df['bb'] = bbs"
   ]
  },
  {
   "cell_type": "code",
   "execution_count": 14,
   "metadata": {
    "execution": {
     "iopub.execute_input": "2022-06-09T07:30:21.719977Z",
     "iopub.status.busy": "2022-06-09T07:30:21.719147Z",
     "iopub.status.idle": "2022-06-09T07:30:21.825821Z",
     "shell.execute_reply": "2022-06-09T07:30:21.824881Z",
     "shell.execute_reply.started": "2022-06-09T07:30:21.719935Z"
    }
   },
   "outputs": [],
   "source": [
    "lbs = [lb.split('/')[3] for lb in labels]"
   ]
  },
  {
   "cell_type": "code",
   "execution_count": 15,
   "metadata": {
    "execution": {
     "iopub.execute_input": "2022-06-09T07:30:21.827724Z",
     "iopub.status.busy": "2022-06-09T07:30:21.827306Z",
     "iopub.status.idle": "2022-06-09T07:30:21.841198Z",
     "shell.execute_reply": "2022-06-09T07:30:21.840312Z",
     "shell.execute_reply.started": "2022-06-09T07:30:21.827684Z"
    }
   },
   "outputs": [],
   "source": [
    "df['label'] = lbs"
   ]
  },
  {
   "cell_type": "code",
   "execution_count": 16,
   "metadata": {
    "execution": {
     "iopub.execute_input": "2022-06-09T07:30:25.117014Z",
     "iopub.status.busy": "2022-06-09T07:30:25.116470Z",
     "iopub.status.idle": "2022-06-09T07:30:25.127197Z",
     "shell.execute_reply": "2022-06-09T07:30:25.126382Z",
     "shell.execute_reply.started": "2022-06-09T07:30:25.116985Z"
    }
   },
   "outputs": [],
   "source": [
    "class CustomDataset(Dataset):\n",
    "    \n",
    "    def __init__(self, df):\n",
    "        self.images = df['img_path'].values\n",
    "        self.bbs = df['bb'].values\n",
    "        self.labels = df['label'].values\n",
    "        \n",
    "    def __getitem__(self, index):\n",
    "        image_path = self.images[index]\n",
    "        try:\n",
    "            image = Image.open(image_path)\n",
    "        except:\n",
    "            image = Image.open(self.images[0])\n",
    "            print('OPEN FILE ERR', image_path)\n",
    "        left, top, right, bottom = self.bbs[index]\n",
    "        try:\n",
    "            image = image.crop((int(left), int(top), int(right), int(bottom)))\n",
    "        except:\n",
    "            print('BB ERRR', image_path)\n",
    "        image = image.resize((224, 224))\n",
    "        image = transforms.ToTensor()(image)\n",
    "        try:\n",
    "            image = transforms.Normalize((0.5, 0.5, 0.5), (0.5, 0.5, 0.5))(image)\n",
    "        except:\n",
    "            image = torch.zeros([3, 224, 224])\n",
    "            print('IMAGE FORMAT ERRR', image_path)\n",
    "        if image.shape != torch.Size([3, 224, 224]):\n",
    "            image = torch.zeros([3, 224, 224])\n",
    "            print('IMG ERR', image_path)\n",
    "        label = int(self.labels[index]) - 1\n",
    "        return image, label\n",
    "        \n",
    "    def __len__ (self):\n",
    "        return len(self.images)"
   ]
  },
  {
   "cell_type": "code",
   "execution_count": 17,
   "metadata": {
    "execution": {
     "iopub.execute_input": "2022-06-09T07:30:25.132526Z",
     "iopub.status.busy": "2022-06-09T07:30:25.132092Z",
     "iopub.status.idle": "2022-06-09T07:30:25.241690Z",
     "shell.execute_reply": "2022-06-09T07:30:25.240770Z",
     "shell.execute_reply.started": "2022-06-09T07:30:25.132468Z"
    }
   },
   "outputs": [],
   "source": [
    "train, test = train_test_split(df, test_size=0.05)"
   ]
  },
  {
   "cell_type": "code",
   "execution_count": 18,
   "metadata": {
    "execution": {
     "iopub.execute_input": "2022-06-09T07:30:25.243191Z",
     "iopub.status.busy": "2022-06-09T07:30:25.242825Z",
     "iopub.status.idle": "2022-06-09T07:30:25.250586Z",
     "shell.execute_reply": "2022-06-09T07:30:25.249348Z",
     "shell.execute_reply.started": "2022-06-09T07:30:25.243156Z"
    }
   },
   "outputs": [],
   "source": [
    "dataset_train = CustomDataset(train[:100])\n",
    "dataset_test = CustomDataset(test[:10])"
   ]
  },
  {
   "cell_type": "code",
   "execution_count": 19,
   "metadata": {
    "execution": {
     "iopub.execute_input": "2022-06-09T07:30:34.774715Z",
     "iopub.status.busy": "2022-06-09T07:30:34.774215Z",
     "iopub.status.idle": "2022-06-09T07:30:34.782009Z",
     "shell.execute_reply": "2022-06-09T07:30:34.779723Z",
     "shell.execute_reply.started": "2022-06-09T07:30:34.774671Z"
    }
   },
   "outputs": [],
   "source": [
    "train_loader = torch.utils.data.DataLoader(dataset_train, batch_size=100, shuffle=True)\n",
    "test_loader = torch.utils.data.DataLoader(dataset_test, batch_size=2, shuffle=True)"
   ]
  },
  {
   "cell_type": "markdown",
   "metadata": {
    "execution": {
     "iopub.execute_input": "2022-06-09T07:30:25.252651Z",
     "iopub.status.busy": "2022-06-09T07:30:25.251701Z",
     "iopub.status.idle": "2022-06-09T07:30:25.257571Z",
     "shell.execute_reply": "2022-06-09T07:30:25.256777Z",
     "shell.execute_reply.started": "2022-06-09T07:30:25.252609Z"
    }
   },
   "source": [
    "### Model"
   ]
  },
  {
   "cell_type": "code",
   "execution_count": 20,
   "metadata": {
    "execution": {
     "iopub.execute_input": "2022-06-09T07:30:25.327162Z",
     "iopub.status.busy": "2022-06-09T07:30:25.326612Z",
     "iopub.status.idle": "2022-06-09T07:30:31.809434Z",
     "shell.execute_reply": "2022-06-09T07:30:31.808365Z",
     "shell.execute_reply.started": "2022-06-09T07:30:25.327121Z"
    }
   },
   "outputs": [],
   "source": [
    "model = models.resnet18(pretrained=False)"
   ]
  },
  {
   "cell_type": "code",
   "execution_count": 21,
   "metadata": {
    "execution": {
     "iopub.execute_input": "2022-06-09T07:30:31.811534Z",
     "iopub.status.busy": "2022-06-09T07:30:31.810895Z",
     "iopub.status.idle": "2022-06-09T07:30:31.835964Z",
     "shell.execute_reply": "2022-06-09T07:30:31.834917Z",
     "shell.execute_reply.started": "2022-06-09T07:30:31.811492Z"
    }
   },
   "outputs": [],
   "source": [
    "n_classes = len(list(set(df['label'].values)))"
   ]
  },
  {
   "cell_type": "code",
   "execution_count": 22,
   "metadata": {
    "execution": {
     "iopub.execute_input": "2022-06-09T07:30:31.838606Z",
     "iopub.status.busy": "2022-06-09T07:30:31.837791Z",
     "iopub.status.idle": "2022-06-09T07:30:31.850612Z",
     "shell.execute_reply": "2022-06-09T07:30:31.849693Z",
     "shell.execute_reply.started": "2022-06-09T07:30:31.838564Z"
    }
   },
   "outputs": [],
   "source": [
    "num_ftrs = model.fc.in_features"
   ]
  },
  {
   "cell_type": "code",
   "execution_count": 23,
   "metadata": {
    "execution": {
     "iopub.execute_input": "2022-06-09T07:30:31.852593Z",
     "iopub.status.busy": "2022-06-09T07:30:31.851642Z",
     "iopub.status.idle": "2022-06-09T07:30:31.860766Z",
     "shell.execute_reply": "2022-06-09T07:30:31.860062Z",
     "shell.execute_reply.started": "2022-06-09T07:30:31.852553Z"
    }
   },
   "outputs": [],
   "source": [
    "model.fc = nn.Linear(num_ftrs, n_classes)"
   ]
  },
  {
   "cell_type": "code",
   "execution_count": 24,
   "metadata": {},
   "outputs": [
    {
     "data": {
      "text/plain": [
       "<All keys matched successfully>"
      ]
     },
     "execution_count": 24,
     "metadata": {},
     "output_type": "execute_result"
    }
   ],
   "source": [
    "model.load_state_dict(torch.load('./models/resnet18.pth', map_location=torch.device('cpu')))"
   ]
  },
  {
   "cell_type": "code",
   "execution_count": 25,
   "metadata": {
    "execution": {
     "iopub.execute_input": "2022-06-09T07:30:25.260352Z",
     "iopub.status.busy": "2022-06-09T07:30:25.259133Z",
     "iopub.status.idle": "2022-06-09T07:30:25.315909Z",
     "shell.execute_reply": "2022-06-09T07:30:25.314988Z",
     "shell.execute_reply.started": "2022-06-09T07:30:25.260292Z"
    }
   },
   "outputs": [],
   "source": [
    "device = torch.device(\"cuda:0\" if torch.cuda.is_available() else \"cpu\")"
   ]
  },
  {
   "cell_type": "code",
   "execution_count": 26,
   "metadata": {
    "execution": {
     "iopub.execute_input": "2022-06-09T07:30:31.862847Z",
     "iopub.status.busy": "2022-06-09T07:30:31.862010Z",
     "iopub.status.idle": "2022-06-09T07:30:34.772791Z",
     "shell.execute_reply": "2022-06-09T07:30:34.771751Z",
     "shell.execute_reply.started": "2022-06-09T07:30:31.862806Z"
    }
   },
   "outputs": [],
   "source": [
    "model.to(device);"
   ]
  },
  {
   "cell_type": "code",
   "execution_count": 27,
   "metadata": {
    "execution": {
     "iopub.execute_input": "2022-06-09T07:30:34.784120Z",
     "iopub.status.busy": "2022-06-09T07:30:34.783488Z",
     "iopub.status.idle": "2022-06-09T07:30:34.969187Z",
     "shell.execute_reply": "2022-06-09T07:30:34.968120Z",
     "shell.execute_reply.started": "2022-06-09T07:30:34.784083Z"
    }
   },
   "outputs": [],
   "source": [
    "optimizer = torch.optim.AdamW(model.parameters())"
   ]
  },
  {
   "cell_type": "markdown",
   "metadata": {},
   "source": [
    "### Train loop"
   ]
  },
  {
   "cell_type": "code",
   "execution_count": 28,
   "metadata": {
    "execution": {
     "iopub.execute_input": "2022-06-09T07:30:34.974214Z",
     "iopub.status.busy": "2022-06-09T07:30:34.973429Z",
     "iopub.status.idle": "2022-06-09T07:30:34.982275Z",
     "shell.execute_reply": "2022-06-09T07:30:34.981378Z",
     "shell.execute_reply.started": "2022-06-09T07:30:34.974179Z"
    }
   },
   "outputs": [],
   "source": [
    "def train_nn(model, data_loader):\n",
    "    loss_fn = torch.nn.CrossEntropyLoss()\n",
    "    model.train()\n",
    "    for data in tqdm(data_loader):\n",
    "        inputs, labels = data\n",
    "        inputs = inputs.to(device)\n",
    "        labels = labels.to(device)\n",
    "        optimizer.zero_grad()\n",
    "        outputs = model(inputs)\n",
    "        loss = loss_fn(outputs, labels)\n",
    "        loss.backward()\n",
    "        optimizer.step()"
   ]
  },
  {
   "cell_type": "code",
   "execution_count": 29,
   "metadata": {
    "execution": {
     "iopub.execute_input": "2022-06-09T08:20:22.565974Z",
     "iopub.status.busy": "2022-06-09T08:20:22.565619Z",
     "iopub.status.idle": "2022-06-09T08:20:22.572774Z",
     "shell.execute_reply": "2022-06-09T08:20:22.571918Z",
     "shell.execute_reply.started": "2022-06-09T08:20:22.565944Z"
    }
   },
   "outputs": [],
   "source": [
    "def eval_nn(model, data_loader):\n",
    "    predicted = []\n",
    "    labels = []\n",
    "    model.eval()\n",
    "    with torch.no_grad():\n",
    "        for data in tqdm(data_loader):\n",
    "            x, y = data\n",
    "            x = x.to(device)\n",
    "\n",
    "            outputs = model(x)\n",
    "            _, predict = torch.max(outputs.data, 1)\n",
    "            predict = predict.cpu().detach().numpy().tolist()\n",
    "            predicted += predict\n",
    "            labels += y\n",
    "        score = f1_score(labels, predicted, average='macro')\n",
    "        print(score)\n",
    "    return labels, predicted, score"
   ]
  },
  {
   "cell_type": "code",
   "execution_count": 30,
   "metadata": {
    "execution": {
     "iopub.execute_input": "2022-06-09T08:20:45.335976Z",
     "iopub.status.busy": "2022-06-09T08:20:45.335626Z",
     "iopub.status.idle": "2022-06-09T09:30:45.887175Z",
     "shell.execute_reply": "2022-06-09T09:30:45.885569Z",
     "shell.execute_reply.started": "2022-06-09T08:20:45.335947Z"
    }
   },
   "outputs": [
    {
     "name": "stderr",
     "output_type": "stream",
     "text": [
      "100%|██████████| 1/1 [00:16<00:00, 16.19s/it]\n"
     ]
    }
   ],
   "source": [
    "train_nn(model, train_loader)"
   ]
  },
  {
   "cell_type": "code",
   "execution_count": 31,
   "metadata": {
    "scrolled": true
   },
   "outputs": [
    {
     "name": "stderr",
     "output_type": "stream",
     "text": [
      "100%|██████████| 5/5 [00:00<00:00,  7.57it/s]"
     ]
    },
    {
     "name": "stdout",
     "output_type": "stream",
     "text": [
      "0.10714285714285714\n"
     ]
    },
    {
     "name": "stderr",
     "output_type": "stream",
     "text": [
      "\n"
     ]
    }
   ],
   "source": [
    "_, _, score = eval_nn(model, test_loader)"
   ]
  },
  {
   "cell_type": "code",
   "execution_count": 32,
   "metadata": {},
   "outputs": [],
   "source": [
    "torch.save(model.state_dict(), './models/model_' + str(round(score, 3)) + '.pth')"
   ]
  },
  {
   "cell_type": "markdown",
   "metadata": {},
   "source": [
    "### Metric learning"
   ]
  },
  {
   "cell_type": "code",
   "execution_count": 33,
   "metadata": {},
   "outputs": [],
   "source": [
    "model.fc = torch.nn.Identity()"
   ]
  },
  {
   "cell_type": "code",
   "execution_count": 34,
   "metadata": {},
   "outputs": [],
   "source": [
    "distance = distances.CosineSimilarity()\n",
    "reducer = reducers.ThresholdReducer(low=0)\n",
    "loss_func = losses.TripletMarginLoss(margin=0.2, distance=distance, reducer=reducer)\n",
    "mining_func = miners.TripletMarginMiner(\n",
    "    margin=0.2, distance=distance, type_of_triplets=\"semihard\"\n",
    ")"
   ]
  },
  {
   "cell_type": "code",
   "execution_count": 35,
   "metadata": {},
   "outputs": [],
   "source": [
    "model.to(device);"
   ]
  },
  {
   "cell_type": "code",
   "execution_count": 36,
   "metadata": {},
   "outputs": [
    {
     "name": "stderr",
     "output_type": "stream",
     "text": [
      "100%|██████████| 1/1 [00:16<00:00, 16.07s/it]\n"
     ]
    }
   ],
   "source": [
    "model.train()\n",
    "for epoch in range(1):\n",
    "    for inputs, labels in tqdm(train_loader):\n",
    "        inputs, labels = inputs.to(device), labels.to(device)\n",
    "        optimizer.zero_grad()\n",
    "        embeddings = model(inputs)\n",
    "        indices_tuple = mining_func(embeddings, labels)\n",
    "        loss = loss_func(embeddings, labels, indices_tuple)\n",
    "        loss.backward()\n",
    "        optimizer.step()"
   ]
  },
  {
   "cell_type": "code",
   "execution_count": 37,
   "metadata": {},
   "outputs": [],
   "source": [
    "torch.save(model.state_dict(), './models/model_mc.pth')"
   ]
  }
 ],
 "metadata": {
  "kernelspec": {
   "display_name": "Python 3",
   "language": "python",
   "name": "python3"
  },
  "language_info": {
   "codemirror_mode": {
    "name": "ipython",
    "version": 3
   },
   "file_extension": ".py",
   "mimetype": "text/x-python",
   "name": "python",
   "nbconvert_exporter": "python",
   "pygments_lexer": "ipython3",
   "version": "3.8.5"
  }
 },
 "nbformat": 4,
 "nbformat_minor": 4
}
