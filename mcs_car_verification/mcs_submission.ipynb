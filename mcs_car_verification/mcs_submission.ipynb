{
 "cells": [
  {
   "cell_type": "code",
   "execution_count": 1,
   "metadata": {},
   "outputs": [],
   "source": [
    "import os\n",
    "\n",
    "import numpy as np\n",
    "import pandas as pd\n",
    "from tqdm import tqdm\n",
    "from PIL import Image\n",
    "import matplotlib.pyplot as plt\n",
    "from sklearn.model_selection import train_test_split\n",
    "from sklearn.metrics import f1_score\n",
    "\n",
    "import torch\n",
    "import torch.nn as nn\n",
    "import torch.optim as optim\n",
    "from torch.utils.data import Dataset, DataLoader\n",
    "\n",
    "import torchvision\n",
    "from torchvision import models\n",
    "from torchvision import transforms\n",
    "\n",
    "from pytorch_metric_learning import distances, losses, miners, reducers, testers\n",
    "from pytorch_metric_learning.utils.accuracy_calculator import AccuracyCalculator"
   ]
  },
  {
   "cell_type": "markdown",
   "metadata": {},
   "source": [
    "### Load data"
   ]
  },
  {
   "cell_type": "code",
   "execution_count": 5,
   "metadata": {},
   "outputs": [],
   "source": [
    "images_w_boxes = pd.read_csv('./public_test/images_w_boxes.csv')"
   ]
  },
  {
   "cell_type": "code",
   "execution_count": 9,
   "metadata": {},
   "outputs": [],
   "source": [
    "submission_list = pd.read_csv('./public_test/submission_list.csv')"
   ]
  },
  {
   "cell_type": "code",
   "execution_count": 6,
   "metadata": {},
   "outputs": [],
   "source": [
    "class CustomDataset(Dataset):\n",
    "    \n",
    "    def __init__(self, df, path):\n",
    "        self.images = df['img_path'].values\n",
    "        self.bbox_x1 = df['bbox_x1'].values\n",
    "        self.bbox_y1 = df['bbox_y1'].values\n",
    "        self.bbox_x2 = df['bbox_x2'].values\n",
    "        self.bbox_y2 = df['bbox_y2'].values\n",
    "        self.path = path\n",
    "        \n",
    "    def __getitem__(self, index):\n",
    "        image_path = self.images[index]\n",
    "        try:\n",
    "            image = Image.open(self.path + image_path)\n",
    "        except:\n",
    "            image = Image.open(self.images[0])\n",
    "            print('OPEN FILE ERR', image_path)\n",
    "        x1 = self.bbox_x1[index]\n",
    "        y1 = self.bbox_y1[index]\n",
    "        x2 = self.bbox_x2[index]\n",
    "        y2 = self.bbox_y2[index]\n",
    "        try:\n",
    "            image = image.crop((int(x1), int(y1), int(x2), int(y2)))\n",
    "        except:\n",
    "            print('BB ERRR', image_path)\n",
    "        image = image.resize((224, 224))\n",
    "        image = transforms.ToTensor()(image)\n",
    "        try:\n",
    "            image = transforms.Normalize((0.5, 0.5, 0.5), (0.5, 0.5, 0.5))(image)\n",
    "        except:\n",
    "            image = torch.zeros([3, 224, 224])\n",
    "            print('IMAGE FORMAT ERRR', image_path)\n",
    "        if image.shape != torch.Size([3, 224, 224]):\n",
    "            image = torch.zeros([3, 224, 224])\n",
    "            print('IMG ERR', image_path)\n",
    "        return image\n",
    "        \n",
    "    def __len__ (self):\n",
    "        return len(self.images)"
   ]
  },
  {
   "cell_type": "code",
   "execution_count": 7,
   "metadata": {},
   "outputs": [],
   "source": [
    "dataset = CustomDataset(images_w_boxes, './public_test/images/')"
   ]
  },
  {
   "cell_type": "code",
   "execution_count": 8,
   "metadata": {},
   "outputs": [],
   "source": [
    "idx2img = {images_w_boxes.loc[i]['img_path'] : images_w_boxes.loc[i].name for i in range(len(images_w_boxes))}"
   ]
  },
  {
   "cell_type": "code",
   "execution_count": 10,
   "metadata": {},
   "outputs": [],
   "source": [
    "from sklearn.preprocessing import normalize\n",
    "\n",
    "def get_embedding(model, dataset, img):\n",
    "    idx = idx2img[img]\n",
    "    img = dataset[idx]\n",
    "    emb = normalize(model(torch.unsqueeze(img, 0)).data.cpu().numpy()[0].reshape(1, -1))\n",
    "    return emb"
   ]
  },
  {
   "cell_type": "markdown",
   "metadata": {},
   "source": [
    "### Load model"
   ]
  },
  {
   "cell_type": "code",
   "execution_count": 2,
   "metadata": {},
   "outputs": [],
   "source": [
    "model = models.resnet18(pretrained=False)"
   ]
  },
  {
   "cell_type": "code",
   "execution_count": 3,
   "metadata": {},
   "outputs": [],
   "source": [
    "model.fc = torch.nn.Identity()"
   ]
  },
  {
   "cell_type": "code",
   "execution_count": 4,
   "metadata": {},
   "outputs": [
    {
     "data": {
      "text/plain": [
       "<All keys matched successfully>"
      ]
     },
     "execution_count": 4,
     "metadata": {},
     "output_type": "execute_result"
    }
   ],
   "source": [
    "model.load_state_dict(torch.load('./models/model_mc.pth', map_location=torch.device('cpu')))"
   ]
  },
  {
   "cell_type": "markdown",
   "metadata": {},
   "source": [
    "### Prediction"
   ]
  },
  {
   "cell_type": "code",
   "execution_count": 11,
   "metadata": {},
   "outputs": [
    {
     "name": "stderr",
     "output_type": "stream",
     "text": [
      "  1%|▏         | 188/14960 [00:33<48:16,  5.10it/s]"
     ]
    },
    {
     "name": "stdout",
     "output_type": "stream",
     "text": [
      "IMAGE FORMAT ERRR b18bf4af16e58c45f0b44371d73ba6ed.jpg\n"
     ]
    },
    {
     "name": "stderr",
     "output_type": "stream",
     "text": [
      "  7%|▋         | 976/14960 [02:48<40:17,  5.78it/s]"
     ]
    },
    {
     "name": "stdout",
     "output_type": "stream",
     "text": [
      "IMAGE FORMAT ERRR b18bf4af16e58c45f0b44371d73ba6ed.jpg\n"
     ]
    },
    {
     "name": "stderr",
     "output_type": "stream",
     "text": [
      "  9%|▊         | 1299/14960 [03:44<39:41,  5.74it/s]"
     ]
    },
    {
     "name": "stdout",
     "output_type": "stream",
     "text": [
      "IMAGE FORMAT ERRR 86eae0a5c83f5435019efb3b7cc8a3d2.jpg\n"
     ]
    },
    {
     "name": "stderr",
     "output_type": "stream",
     "text": [
      " 13%|█▎        | 2012/14960 [05:53<38:37,  5.59it/s]"
     ]
    },
    {
     "name": "stdout",
     "output_type": "stream",
     "text": [
      "IMAGE FORMAT ERRR 8cc25f5c544625a9f54e03b081945e5c.jpg\n"
     ]
    },
    {
     "name": "stderr",
     "output_type": "stream",
     "text": [
      " 28%|██▊       | 4178/14960 [11:31<27:32,  6.52it/s]"
     ]
    },
    {
     "name": "stdout",
     "output_type": "stream",
     "text": [
      "IMAGE FORMAT ERRR 658a9061fda92bd65a0dbb4332b472b4.jpg\n"
     ]
    },
    {
     "name": "stderr",
     "output_type": "stream",
     "text": [
      " 31%|███       | 4568/14960 [12:32<27:18,  6.34it/s]"
     ]
    },
    {
     "name": "stdout",
     "output_type": "stream",
     "text": [
      "IMAGE FORMAT ERRR b18bf4af16e58c45f0b44371d73ba6ed.jpg\n"
     ]
    },
    {
     "name": "stderr",
     "output_type": "stream",
     "text": [
      " 31%|███       | 4609/14960 [12:39<27:12,  6.34it/s]"
     ]
    },
    {
     "name": "stdout",
     "output_type": "stream",
     "text": [
      "IMAGE FORMAT ERRR 1675d8443dc4cefdf71e93ccf08d22e5.jpg\n"
     ]
    },
    {
     "name": "stderr",
     "output_type": "stream",
     "text": [
      " 32%|███▏      | 4788/14960 [13:07<26:19,  6.44it/s]"
     ]
    },
    {
     "name": "stdout",
     "output_type": "stream",
     "text": [
      "IMAGE FORMAT ERRR b18bf4af16e58c45f0b44371d73ba6ed.jpg\n"
     ]
    },
    {
     "name": "stderr",
     "output_type": "stream",
     "text": [
      " 32%|███▏      | 4842/14960 [13:15<26:34,  6.34it/s]"
     ]
    },
    {
     "name": "stdout",
     "output_type": "stream",
     "text": [
      "IMAGE FORMAT ERRR 8cc25f5c544625a9f54e03b081945e5c.jpg\n"
     ]
    },
    {
     "name": "stderr",
     "output_type": "stream",
     "text": [
      " 34%|███▍      | 5055/14960 [13:49<25:52,  6.38it/s]"
     ]
    },
    {
     "name": "stdout",
     "output_type": "stream",
     "text": [
      "IMAGE FORMAT ERRR b18bf4af16e58c45f0b44371d73ba6ed.jpg\n"
     ]
    },
    {
     "name": "stderr",
     "output_type": "stream",
     "text": [
      " 36%|███▌      | 5311/14960 [14:29<25:18,  6.35it/s]"
     ]
    },
    {
     "name": "stdout",
     "output_type": "stream",
     "text": [
      "IMAGE FORMAT ERRR 1675d8443dc4cefdf71e93ccf08d22e5.jpg\n"
     ]
    },
    {
     "name": "stderr",
     "output_type": "stream",
     "text": [
      " 37%|███▋      | 5543/14960 [15:06<24:45,  6.34it/s]"
     ]
    },
    {
     "name": "stdout",
     "output_type": "stream",
     "text": [
      "IMAGE FORMAT ERRR 1675d8443dc4cefdf71e93ccf08d22e5.jpg\n"
     ]
    },
    {
     "name": "stderr",
     "output_type": "stream",
     "text": [
      " 45%|████▍     | 6663/14960 [18:01<21:37,  6.39it/s]"
     ]
    },
    {
     "name": "stdout",
     "output_type": "stream",
     "text": [
      "IMAGE FORMAT ERRR 8cc25f5c544625a9f54e03b081945e5c.jpg\n"
     ]
    },
    {
     "name": "stderr",
     "output_type": "stream",
     "text": [
      " 49%|████▊     | 7265/14960 [19:36<19:52,  6.45it/s]"
     ]
    },
    {
     "name": "stdout",
     "output_type": "stream",
     "text": [
      "IMAGE FORMAT ERRR 1675d8443dc4cefdf71e93ccf08d22e5.jpg\n"
     ]
    },
    {
     "name": "stderr",
     "output_type": "stream",
     "text": [
      " 50%|█████     | 7506/14960 [20:14<19:28,  6.38it/s]"
     ]
    },
    {
     "name": "stdout",
     "output_type": "stream",
     "text": [
      "IMAGE FORMAT ERRR 658a9061fda92bd65a0dbb4332b472b4.jpg\n"
     ]
    },
    {
     "name": "stderr",
     "output_type": "stream",
     "text": [
      " 50%|█████     | 7549/14960 [20:21<19:37,  6.30it/s]"
     ]
    },
    {
     "name": "stdout",
     "output_type": "stream",
     "text": [
      "IMAGE FORMAT ERRR 86eae0a5c83f5435019efb3b7cc8a3d2.jpg\n"
     ]
    },
    {
     "name": "stderr",
     "output_type": "stream",
     "text": [
      " 53%|█████▎    | 7870/14960 [21:11<18:29,  6.39it/s]"
     ]
    },
    {
     "name": "stdout",
     "output_type": "stream",
     "text": [
      "IMAGE FORMAT ERRR b18bf4af16e58c45f0b44371d73ba6ed.jpg\n"
     ]
    },
    {
     "name": "stderr",
     "output_type": "stream",
     "text": [
      " 54%|█████▍    | 8055/14960 [21:40<17:49,  6.45it/s]"
     ]
    },
    {
     "name": "stdout",
     "output_type": "stream",
     "text": [
      "IMAGE FORMAT ERRR 1675d8443dc4cefdf71e93ccf08d22e5.jpg\n"
     ]
    },
    {
     "name": "stderr",
     "output_type": "stream",
     "text": [
      " 58%|█████▊    | 8694/14960 [23:20<16:35,  6.29it/s]"
     ]
    },
    {
     "name": "stdout",
     "output_type": "stream",
     "text": [
      "IMAGE FORMAT ERRR 98eb14af0b772c77c60c09339d96562e.jpg\n"
     ]
    },
    {
     "name": "stderr",
     "output_type": "stream",
     "text": [
      " 61%|██████▏   | 9164/14960 [24:34<15:01,  6.43it/s]"
     ]
    },
    {
     "name": "stdout",
     "output_type": "stream",
     "text": [
      "IMAGE FORMAT ERRR 86eae0a5c83f5435019efb3b7cc8a3d2.jpg\n"
     ]
    },
    {
     "name": "stderr",
     "output_type": "stream",
     "text": [
      " 61%|██████▏   | 9166/14960 [24:34<15:17,  6.32it/s]"
     ]
    },
    {
     "name": "stdout",
     "output_type": "stream",
     "text": [
      "IMAGE FORMAT ERRR 86eae0a5c83f5435019efb3b7cc8a3d2.jpg\n"
     ]
    },
    {
     "name": "stderr",
     "output_type": "stream",
     "text": [
      " 66%|██████▌   | 9869/14960 [26:24<13:15,  6.40it/s]"
     ]
    },
    {
     "name": "stdout",
     "output_type": "stream",
     "text": [
      "IMAGE FORMAT ERRR 658a9061fda92bd65a0dbb4332b472b4.jpg\n"
     ]
    },
    {
     "name": "stderr",
     "output_type": "stream",
     "text": [
      " 68%|██████▊   | 10170/14960 [27:11<12:33,  6.35it/s]"
     ]
    },
    {
     "name": "stdout",
     "output_type": "stream",
     "text": [
      "IMAGE FORMAT ERRR 658a9061fda92bd65a0dbb4332b472b4.jpg\n"
     ]
    },
    {
     "name": "stderr",
     "output_type": "stream",
     "text": [
      " 73%|███████▎  | 10875/14960 [29:01<10:37,  6.41it/s]"
     ]
    },
    {
     "name": "stdout",
     "output_type": "stream",
     "text": [
      "IMAGE FORMAT ERRR b18bf4af16e58c45f0b44371d73ba6ed.jpg\n"
     ]
    },
    {
     "name": "stderr",
     "output_type": "stream",
     "text": [
      " 76%|███████▌  | 11348/14960 [30:15<09:21,  6.44it/s]"
     ]
    },
    {
     "name": "stdout",
     "output_type": "stream",
     "text": [
      "IMAGE FORMAT ERRR b18bf4af16e58c45f0b44371d73ba6ed.jpg\n"
     ]
    },
    {
     "name": "stderr",
     "output_type": "stream",
     "text": [
      " 77%|███████▋  | 11484/14960 [30:37<09:10,  6.31it/s]"
     ]
    },
    {
     "name": "stdout",
     "output_type": "stream",
     "text": [
      "IMAGE FORMAT ERRR 658a9061fda92bd65a0dbb4332b472b4.jpg\n"
     ]
    },
    {
     "name": "stderr",
     "output_type": "stream",
     "text": [
      " 79%|███████▉  | 11801/14960 [31:26<08:13,  6.40it/s]"
     ]
    },
    {
     "name": "stdout",
     "output_type": "stream",
     "text": [
      "IMAGE FORMAT ERRR b18bf4af16e58c45f0b44371d73ba6ed.jpg\n"
     ]
    },
    {
     "name": "stderr",
     "output_type": "stream",
     "text": [
      " 79%|███████▉  | 11826/14960 [31:30<08:18,  6.29it/s]"
     ]
    },
    {
     "name": "stdout",
     "output_type": "stream",
     "text": [
      "IMAGE FORMAT ERRR b18bf4af16e58c45f0b44371d73ba6ed.jpg\n"
     ]
    },
    {
     "name": "stderr",
     "output_type": "stream",
     "text": [
      " 79%|███████▉  | 11891/14960 [31:40<08:01,  6.38it/s]"
     ]
    },
    {
     "name": "stdout",
     "output_type": "stream",
     "text": [
      "IMAGE FORMAT ERRR 8cc25f5c544625a9f54e03b081945e5c.jpg\n"
     ]
    },
    {
     "name": "stderr",
     "output_type": "stream",
     "text": [
      " 83%|████████▎ | 12489/14960 [33:14<06:19,  6.50it/s]"
     ]
    },
    {
     "name": "stdout",
     "output_type": "stream",
     "text": [
      "IMAGE FORMAT ERRR b18bf4af16e58c45f0b44371d73ba6ed.jpg\n"
     ]
    },
    {
     "name": "stderr",
     "output_type": "stream",
     "text": [
      " 86%|████████▌ | 12830/14960 [34:07<05:29,  6.47it/s]"
     ]
    },
    {
     "name": "stdout",
     "output_type": "stream",
     "text": [
      "IMAGE FORMAT ERRR 8cc25f5c544625a9f54e03b081945e5c.jpg\n"
     ]
    },
    {
     "name": "stderr",
     "output_type": "stream",
     "text": [
      " 89%|████████▊ | 13260/14960 [35:14<04:27,  6.36it/s]"
     ]
    },
    {
     "name": "stdout",
     "output_type": "stream",
     "text": [
      "IMAGE FORMAT ERRR 658a9061fda92bd65a0dbb4332b472b4.jpg\n"
     ]
    },
    {
     "name": "stderr",
     "output_type": "stream",
     "text": [
      " 89%|████████▊ | 13275/14960 [35:16<04:21,  6.44it/s]"
     ]
    },
    {
     "name": "stdout",
     "output_type": "stream",
     "text": [
      "IMAGE FORMAT ERRR 8cc25f5c544625a9f54e03b081945e5c.jpg\n",
      "IMAGE FORMAT ERRR 1675d8443dc4cefdf71e93ccf08d22e5.jpg\n"
     ]
    },
    {
     "name": "stderr",
     "output_type": "stream",
     "text": [
      " 89%|████████▉ | 13304/14960 [35:21<04:19,  6.37it/s]"
     ]
    },
    {
     "name": "stdout",
     "output_type": "stream",
     "text": [
      "IMAGE FORMAT ERRR 1675d8443dc4cefdf71e93ccf08d22e5.jpg\n"
     ]
    },
    {
     "name": "stderr",
     "output_type": "stream",
     "text": [
      " 89%|████████▉ | 13327/14960 [35:25<04:17,  6.34it/s]"
     ]
    },
    {
     "name": "stdout",
     "output_type": "stream",
     "text": [
      "IMAGE FORMAT ERRR 86eae0a5c83f5435019efb3b7cc8a3d2.jpg\n"
     ]
    },
    {
     "name": "stderr",
     "output_type": "stream",
     "text": [
      " 91%|█████████ | 13640/14960 [36:14<03:24,  6.47it/s]"
     ]
    },
    {
     "name": "stdout",
     "output_type": "stream",
     "text": [
      "IMAGE FORMAT ERRR 1675d8443dc4cefdf71e93ccf08d22e5.jpg\n"
     ]
    },
    {
     "name": "stderr",
     "output_type": "stream",
     "text": [
      " 93%|█████████▎| 13934/14960 [37:00<02:40,  6.39it/s]"
     ]
    },
    {
     "name": "stdout",
     "output_type": "stream",
     "text": [
      "IMAGE FORMAT ERRR 98eb14af0b772c77c60c09339d96562e.jpg\n"
     ]
    },
    {
     "name": "stderr",
     "output_type": "stream",
     "text": [
      " 94%|█████████▍| 14104/14960 [37:26<02:13,  6.43it/s]"
     ]
    },
    {
     "name": "stdout",
     "output_type": "stream",
     "text": [
      "IMAGE FORMAT ERRR 86eae0a5c83f5435019efb3b7cc8a3d2.jpg\n"
     ]
    },
    {
     "name": "stderr",
     "output_type": "stream",
     "text": [
      "100%|██████████| 14960/14960 [39:40<00:00,  6.28it/s]\n"
     ]
    }
   ],
   "source": [
    "sim_list = []\n",
    "for i in tqdm(submission_list['id'].values):\n",
    "    ids, img_a, img_b = submission_list[submission_list['id'] == i].values[0]\n",
    "    emb_a = get_embedding(model, dataset, img_a)\n",
    "    emb_b = get_embedding(model, dataset, img_b)\n",
    "    dist = (2 - np.linalg.norm(emb_a - emb_b)) / 2\n",
    "    sim_list.append(dist)"
   ]
  },
  {
   "cell_type": "code",
   "execution_count": 12,
   "metadata": {},
   "outputs": [],
   "source": [
    "submission = pd.DataFrame()\n",
    "submission['id'] = submission_list['id'].values\n",
    "submission['score'] = sim_list"
   ]
  },
  {
   "cell_type": "code",
   "execution_count": 13,
   "metadata": {},
   "outputs": [],
   "source": [
    "submission.to_csv('mcs_prediction.csv', index=False)"
   ]
  }
 ],
 "metadata": {
  "kernelspec": {
   "display_name": "Python 3",
   "language": "python",
   "name": "python3"
  },
  "language_info": {
   "codemirror_mode": {
    "name": "ipython",
    "version": 3
   },
   "file_extension": ".py",
   "mimetype": "text/x-python",
   "name": "python",
   "nbconvert_exporter": "python",
   "pygments_lexer": "ipython3",
   "version": "3.8.5"
  }
 },
 "nbformat": 4,
 "nbformat_minor": 4
}
